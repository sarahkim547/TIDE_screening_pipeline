{
 "cells": [
  {
   "cell_type": "markdown",
   "id": "7464d6ae",
   "metadata": {
    "toc": true
   },
   "source": [
    "<h1>Table of Contents<span class=\"tocSkip\"></span></h1>\n",
    "<div class=\"toc\"><ul class=\"toc-item\"></ul></div>"
   ]
  },
  {
   "cell_type": "markdown",
   "id": "c27569e2",
   "metadata": {},
   "source": [
    "This notebook runs through the preprocessing steps for normalizing the counts matrix of the B16 screen in the Setdb1 paper."
   ]
  },
  {
   "cell_type": "code",
   "execution_count": 18,
   "id": "d97feee4",
   "metadata": {},
   "outputs": [],
   "source": [
    "import os, sys\n",
    "import pandas as pd\n",
    "import numpy as np\n",
    "\n",
    "import matplotlib as mpl\n",
    "mpl.rc('pdf',fonttype=42)\n",
    "mpl.rcParams['pdf.use14corefonts'] = True\n",
    "mpl.rcParams['axes.unicode_minus'] = False\n",
    "\n",
    "import matplotlib.pyplot as plt\n",
    "\n",
    "import seaborn as sns\n",
    "\n",
    "from sklearn.linear_model import LinearRegression\n",
    "from patsy import cr\n",
    "\n",
    "from scipy.stats import norm\n",
    "from scipy.stats import gaussian_kde\n",
    "from statsmodels.stats.multitest import multipletests\n",
    "\n",
    "from matplotlib import cm\n",
    "from matplotlib.colors import Normalize, LinearSegmentedColormap\n",
    "\n",
    "from scipy.stats import zscore, spearmanr, pearsonr\n",
    "\n",
    "from tqdm import tqdm"
   ]
  },
  {
   "cell_type": "code",
   "execution_count": 19,
   "id": "90a9a033",
   "metadata": {},
   "outputs": [],
   "source": [
    "from matplotlib.colors import Normalize \n",
    "from scipy.interpolate import interpn\n",
    "def density_scatter(x ,y, ax=None, sort=True, bins=20, **kwargs):\n",
    "    \"\"\"\n",
    "    Scatter plot colored by 2d histogram\n",
    "    \"\"\"\n",
    "    if ax is None :\n",
    "        fig , ax = plt.subplots()\n",
    "    data , x_e, y_e = np.histogram2d( x, y, bins = bins, density = True )\n",
    "    z = interpn( ( 0.5*(x_e[1:] + x_e[:-1]) , 0.5*(y_e[1:]+y_e[:-1]) ) , data , np.vstack([x,y]).T , method = \"splinef2d\", bounds_error = False)\n",
    "\n",
    "    #To be sure to plot all data\n",
    "    z[np.where(np.isnan(z))] = 0.0\n",
    "\n",
    "    # Sort the points by density, so that the densest points are plotted last\n",
    "    if sort :\n",
    "        idx = z.argsort()\n",
    "        x, y, z = x[idx], y[idx], z[idx]\n",
    "\n",
    "    ax.scatter( x, y, c=z, **kwargs )\n",
    "\n",
    "    return ax"
   ]
  },
  {
   "cell_type": "code",
   "execution_count": 20,
   "id": "3bd11fd2",
   "metadata": {},
   "outputs": [],
   "source": [
    "#Load in counts data, chip file, and comparison design file\n",
    "data_folder = '../data/Setdb1_paper_data/B16_screen/'\n",
    "counts = pd.read_csv(data_folder + 'B16_Setdb1_counts.txt', sep='\\t', index_col=0)\n",
    "chip = pd.read_csv(data_folder + 'CP1367_GRCm38_NCBI_strict_gene_20191022.chip', delimiter='\\t', index_col=0)\n",
    "design = pd.read_csv(data_folder + 'B16_Setdb1_replicate_map.txt', delimiter='\\t', index_col=0)\n",
    "\n",
    "ctrl_sg = [_ for _ in counts.index if '_' in chip.loc[_, 'Gene Symbol']]\n",
    "comp_design = design[['Sample', 'Control']].dropna().drop_duplicates()\n",
    "comp_design = comp_design.reset_index().drop('Replicate', axis=1)"
   ]
  },
  {
   "cell_type": "code",
   "execution_count": 21,
   "id": "af409de3",
   "metadata": {},
   "outputs": [],
   "source": [
    "# normalize and compute LFCs\n",
    "libsize = counts.sum(axis=0)\n",
    "rpm = counts / libsize * 1E6 + 1\n",
    "lrpm = np.log2(rpm)\n",
    "lrpm.to_csv(data_folder + 'log2rpm.txt', sep='\\t')\n",
    "\n",
    "# aggregate by condition\n",
    "log2var = lrpm.groupby(by=design['Sample'], axis=1).var()[design['Sample'].unique()]\n",
    "log2rpm = lrpm.groupby(by=design['Sample'], axis=1).mean()[design['Sample'].unique()]\n",
    "log2rpm.to_csv(data_folder + 'log2rpm_averaged.txt', sep='\\t')\n",
    "\n",
    "# control distribution\n",
    "log2rpm_mean_ctrl = log2rpm.loc[ctrl_sg].mean()\n",
    "log2rpm_std_ctrl = log2rpm.loc[ctrl_sg].std()\n",
    "\n",
    "# zscore normalize\n",
    "zlog2rpm = (log2rpm - log2rpm_mean_ctrl) / log2rpm_std_ctrl\n",
    "zlog2var = log2var / log2rpm_std_ctrl ** 2\n"
   ]
  },
  {
   "cell_type": "code",
   "execution_count": 22,
   "id": "baf12921",
   "metadata": {},
   "outputs": [
    {
     "name": "stderr",
     "output_type": "stream",
     "text": [
      "100%|██████████| 4/4 [00:00<00:00, 24.66it/s]\n"
     ]
    },
    {
     "data": {
      "image/png": "[encoded data removed]",
      "text/plain": [
       "<Figure size 259.2x172.8 with 4 Axes>"
      ]
     },
     "metadata": {},
     "output_type": "display_data"
    }
   ],
   "source": [
    "# calculate zlfc and residuals from natural cubic spline of znorm abundances\n",
    "resid = pd.DataFrame(index=counts.index)\n",
    "zlfc = pd.DataFrame(index=counts.index)\n",
    "\n",
    "ncols=2\n",
    "nrows=4//ncols + 4%ncols\n",
    "\n",
    "plt.figure(None, (ncols*1.8, nrows*1.2))\n",
    "for i, (s, c) in tqdm(enumerate(zip(comp_design['Sample'], comp_design['Control'])), total=len(comp_design)):\n",
    "    ax = plt.subplot(nrows, ncols, i+1)\n",
    "    x = zlog2rpm[c]\n",
    "    y = zlog2rpm[s]\n",
    "    clr='#00adcc'  # for cividis\n",
    "    \n",
    "    # calculate spline\n",
    "    x_basis = cr(x, df=4, constraints='center')\n",
    "    model = LinearRegression().fit(x_basis, y)\n",
    "    y_hat = model.predict(x_basis)\n",
    "    \n",
    "    # plot points with density\n",
    "    cm = plt.cm.cividis\n",
    "    density_scatter(x, y, ax=ax, cmap=cm)\n",
    "    ax.set_title(s.replace('_', ' ').replace('IO', 'ICB'))\n",
    "    idx = np.argsort(x)\n",
    "    \n",
    "    ax.plot(x[idx], y_hat[idx], color=clr, linewidth=3)\n",
    "    ax.axvline(0, linestyle='-', linewidth=1, color='k')\n",
    "    ax.axhline(0, linestyle='-', linewidth=1, color='k')\n",
    "    ax.tick_params(\n",
    "        axis='both',\n",
    "        which='both',\n",
    "        left=False,\n",
    "        bottom=False,\n",
    "        labelleft=False,\n",
    "        labelbottom=False)\n",
    "\n",
    "    resid[s] = y - y_hat\n",
    "    zlfc[s] = y - x\n",
    "plt.tight_layout()\n",
    "plt.show()"
   ]
  },
  {
   "cell_type": "code",
   "execution_count": 23,
   "id": "d3c03736",
   "metadata": {},
   "outputs": [],
   "source": [
    "zlfc_g = zlfc.loc[chip.index].groupby(chip['Gene Symbol']).mean()\n",
    "zlfc_g.to_csv(data_folder + 'genes_zlfc.txt', sep='\\t')\n",
    "resid_g = resid.loc[chip.index].groupby(chip['Gene Symbol']).mean()\n",
    "resid_g.to_csv(data_folder + 'genes_zresid.txt', sep='\\t')\n",
    "zlfc.to_csv(data_folder + 'guides_zlfc.txt', sep='\\t')\n",
    "resid.to_csv(data_folder + 'guides_zresid.txt', sep='\\t')"
   ]
  }
 ],
 "metadata": {
  "kernelspec": {
   "display_name": "Python 3",
   "language": "python",
   "name": "python3"
  },
  "language_info": {
   "codemirror_mode": {
    "name": "ipython",
    "version": 3
   },
   "file_extension": ".py",
   "mimetype": "text/x-python",
   "name": "python",
   "nbconvert_exporter": "python",
   "pygments_lexer": "ipython3",
   "version": "3.7.6"
  },
  "toc": {
   "base_numbering": 1,
   "nav_menu": {},
   "number_sections": true,
   "sideBar": true,
   "skip_h1_title": false,
   "title_cell": "Table of Contents",
   "title_sidebar": "Contents",
   "toc_cell": true,
   "toc_position": {},
   "toc_section_display": true,
   "toc_window_display": true
  }
 },
 "nbformat": 4,
 "nbformat_minor": 5
}
